{
 "cells": [
  {
   "cell_type": "markdown",
   "metadata": {},
   "source": [
    "# Introduction\n",
    "## Key components\n",
    "- The data that we can learn from.\n",
    "- A model of how to transform the data.\n",
    "- An objective function that quantifies how well (or badly) the model is doing.\n",
    "- An algorithm to adjust the model’s parameters to optimize the objective function.\n",
    "\n",
    "### Data\n",
    "### Important Concepts and Definitions:\n",
    "- **Data**: A collection of examples used for analysis and model building. **Example**: Also referred to as a data point, instance, or sample; comprises features and, in supervised learning, a label.\n",
    "- **Features (Covariates/Inputs)**: Attributes or measurements used by the model to make predictions.\n",
    "- **Label (Target)**: The value or category that the model is trained to predict, not part of the input data.\n",
    "- **Data Representation (Vectors)**: Data must be converted into numerical values to be used effectively in models. Example: \n",
    "    - Image data: Features are pixel values (e.g., grids of RGB brightness).\n",
    "    - Health data: Features include age, vital signs, comorbidities, etc.\n",
    "\n",
    "- **Dimensionality**:\n",
    "   - **Fixed-Length**: Input data with a consistent number of features across all examples (dimensionality is constant).\n",
    "   - **Variable-Length**: Data with varying input sizes (e.g., text, images of different resolutions). Deep learning excels at handling these."
   ]
  }
 ],
 "metadata": {
  "language_info": {
   "name": "python"
  }
 },
 "nbformat": 4,
 "nbformat_minor": 2
}
